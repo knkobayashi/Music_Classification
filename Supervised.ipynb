{
  "nbformat": 4,
  "nbformat_minor": 0,
  "metadata": {
    "kernelspec": {
      "display_name": "Python 3",
      "language": "python",
      "name": "python3"
    },
    "language_info": {
      "codemirror_mode": {
        "name": "ipython",
        "version": 3
      },
      "file_extension": ".py",
      "mimetype": "text/x-python",
      "name": "python",
      "nbconvert_exporter": "python",
      "pygments_lexer": "ipython3",
      "version": "3.7.4"
    },
    "colab": {
      "name": "Supervised.ipynb",
      "provenance": [],
      "collapsed_sections": []
    }
  },
  "cells": [
    {
      "cell_type": "code",
      "metadata": {
        "id": "-BdYZSQscQHd",
        "colab_type": "code",
        "colab": {}
      },
      "source": [
        "import numpy as np\n",
        "import pandas as pd\n",
        "import matplotlib.pyplot as plt\n",
        "\n",
        "from sklearn.preprocessing import StandardScaler, LabelEncoder\n",
        "from sklearn.linear_model import LogisticRegression\n",
        "from sklearn.model_selection import train_test_split\n",
        "from sklearn.metrics import accuracy_score, f1_score, roc_auc_score, roc_curve\n",
        "from sklearn.discriminant_analysis import LinearDiscriminantAnalysis as LDA\n",
        "from sklearn.naive_bayes import GaussianNB\n",
        "from sklearn.ensemble import RandomForestClassifier\n",
        "from sklearn.linear_model import SGDClassifier\n",
        "\n",
        "import tensorflow as tf\n",
        "from tensorflow.keras import layers\n",
        "from keras.models import Sequential\n",
        "from keras.layers import Dense"
      ],
      "execution_count": 0,
      "outputs": []
    },
    {
      "cell_type": "code",
      "metadata": {
        "id": "TwMElIFmcXXM",
        "colab_type": "code",
        "outputId": "25ee5c20-52ba-4350-a9f5-5790110f3e70",
        "colab": {
          "base_uri": "https://localhost:8080/",
          "height": 35
        }
      },
      "source": [
        "from google.colab import drive\n",
        "drive.mount('/content/drive', force_remount=True)"
      ],
      "execution_count": 2,
      "outputs": [
        {
          "output_type": "stream",
          "text": [
            "Mounted at /content/drive\n"
          ],
          "name": "stdout"
        }
      ]
    },
    {
      "cell_type": "code",
      "metadata": {
        "id": "ZQxPm08ycQHl",
        "colab_type": "code",
        "colab": {}
      },
      "source": [
        "df = pd.read_csv(\"/content/drive/My Drive/EE461P_Project/Data.csv\")\n",
        "# dataset.head(5)"
      ],
      "execution_count": 0,
      "outputs": []
    },
    {
      "cell_type": "code",
      "metadata": {
        "id": "UJuu338DcQHt",
        "colab_type": "code",
        "colab": {}
      },
      "source": [
        "# Data from Dataframe\n",
        "X = df.drop(['genre'], axis=1)\n",
        "y = df['genre']\n",
        "\n",
        "# Scaling X Data\n",
        "scale = StandardScaler()\n",
        "x_scaled = pd.DataFrame(scale.fit_transform(X), columns = X.columns)\n",
        "\n",
        "# Encoding Y Data to integer from 0-9\n",
        "encoder = LabelEncoder()\n",
        "y_enc = encoder.fit_transform(y)\n",
        "\n",
        "#Performing LDA\n",
        "lda = LDA()\n",
        "x_lda = lda.fit_transform(x_scaled, y_enc)\n",
        "\n",
        "x_train, x_test, y_train, y_test = train_test_split(x_scaled, y_enc, test_size=0.25, random_state=42)\n",
        "x_train_lda, x_test_lda, y_train_lda, y_test_lda = train_test_split(x_lda, y_enc, test_size=0.25, random_state=42)\n",
        "\n",
        "# User for iterations below\n",
        "dataset = []\n",
        "dataset.append([x_train, x_test, y_train, y_test])\n",
        "dataset.append([x_train_lda, x_test_lda, y_train_lda, y_test_lda])\n",
        "xtrain, xtest, ytrain, ytest = range(0,4)\n",
        "\n",
        "# x_train.shape"
      ],
      "execution_count": 0,
      "outputs": []
    },
    {
      "cell_type": "code",
      "metadata": {
        "id": "c3nxNfySVjAE",
        "colab_type": "code",
        "colab": {
          "base_uri": "https://localhost:8080/",
          "height": 72
        },
        "outputId": "15e2285a-ad54-4cff-fad6-5031977ad5f8"
      },
      "source": [
        "# First Model: LogisticRegression:\n",
        "lr_accuracy = []\n",
        "for data in dataset:\n",
        "  lr = LogisticRegression(max_iter=1500, random_state=42)\n",
        "  lr.fit(data[xtrain], data[ytrain])\n",
        "  lr_accuracy.append(accuracy_score(data[ytest], lr.predict(data[xtest])))\n",
        "\n",
        "print('LogisticRegression         : {0:.3f}'.format(lr_accuracy[0]))\n",
        "print('LogisticRegression with LDA: {0:.3f}'.format(lr_accuracy[1]))\n",
        "print('LDA resulted in a {0:.3f} point increase ({1:.2%}).'.format(lr_accuracy[1]-lr_accuracy[0], (lr_accuracy[1]/lr_accuracy[0])-1))"
      ],
      "execution_count": 36,
      "outputs": [
        {
          "output_type": "stream",
          "text": [
            "RandomForestClassifier         : 0.776\n",
            "RandomForestClassifier with LDA: 0.864\n",
            "LDA resulted in a 0.088 point increase (11.34%).\n"
          ],
          "name": "stdout"
        }
      ]
    },
    {
      "cell_type": "code",
      "metadata": {
        "id": "CyWfAPhnwSvx",
        "colab_type": "code",
        "colab": {
          "base_uri": "https://localhost:8080/",
          "height": 72
        },
        "outputId": "3d67a8b5-c041-4b46-89a8-694a90bfd40d"
      },
      "source": [
        "# Second Model: RandomForestClassifier\n",
        "rfc_accuracy = []\n",
        "for data in dataset:\n",
        "  rfc = RandomForestClassifier(random_state=42)\n",
        "  rfc.fit(data[xtrain], data[ytrain])\n",
        "  rfc_accuracy.append(accuracy_score(data[ytest], rfc.predict(data[xtest])))\n",
        "\n",
        "print('RandomForestClassifier         : {0:.3f}'.format(rfc_accuracy[0]))\n",
        "print('RandomForestClassifier with LDA: {0:.3f}'.format(rfc_accuracy[1]))\n",
        "print('LDA resulted in a {0:.3f} point increase ({1:.2%}).'.format(rfc_accuracy[1]-rfc_accuracy[0], (rfc_accuracy[1]/rfc_accuracy[0])-1))"
      ],
      "execution_count": 35,
      "outputs": [
        {
          "output_type": "stream",
          "text": [
            "RandomForestClassifier         : 0.724\n",
            "RandomForestClassifier with LDA: 0.852\n",
            "LDA resulted in a 0.128 point increase (17.68%).\n"
          ],
          "name": "stdout"
        }
      ]
    },
    {
      "cell_type": "code",
      "metadata": {
        "id": "lcdh6NbbxSAv",
        "colab_type": "code",
        "colab": {
          "base_uri": "https://localhost:8080/",
          "height": 72
        },
        "outputId": "e419f28c-d42f-4139-8f3a-f0bd6e5399d8"
      },
      "source": [
        "# Third Model: NaiveBayes\n",
        "gnb_accuracy = []\n",
        "for data in dataset:\n",
        "  gnb = GaussianNB()\n",
        "  gnb.fit(data[xtrain], data[ytrain])\n",
        "  gnb_accuracy.append(accuracy_score(data[ytest], gnb.predict(data[xtest])))\n",
        "\n",
        "print('NaiveBayes         : {0:.3f}'.format(gnb_accuracy[0]))\n",
        "print('NaiveBayes with LDA: {0:.3f}'.format(gnb_accuracy[1]))\n",
        "print('LDA resulted in a {0:.3f} point increase ({1:.2%}).'.format(gnb_accuracy[1]-gnb_accuracy[0], (gnb_accuracy[1]/gnb_accuracy[0])-1))"
      ],
      "execution_count": 41,
      "outputs": [
        {
          "output_type": "stream",
          "text": [
            "NaiveBayes         : 0.552\n",
            "NaiveBayes with LDA: 0.880\n",
            "LDA resulted in a 0.328 point increase (59.42%).\n"
          ],
          "name": "stdout"
        }
      ]
    },
    {
      "cell_type": "code",
      "metadata": {
        "id": "SUswRUle3enF",
        "colab_type": "code",
        "colab": {
          "base_uri": "https://localhost:8080/",
          "height": 72
        },
        "outputId": "c2ddca38-3154-4af5-9947-04966116c87e"
      },
      "source": [
        "# Fourth Model: SGDClassifier\n",
        "sgd_accuracy = []\n",
        "for data in dataset:\n",
        "  sgd = SGDClassifier(loss=\"hinge\", penalty=\"l2\", max_iter=2000, random_state=42)\n",
        "  sgd.fit(data[xtrain], data[ytrain])\n",
        "  sgd_accuracy.append(accuracy_score(data[ytest], sgd.predict(data[xtest])))\n",
        "\n",
        "print('SGDClassifier         : {0:.3f}'.format(sgd_accuracy[0]))\n",
        "print('SGDClassifier with LDA: {0:.3f}'.format(sgd_accuracy[1]))\n",
        "print('LDA resulted in a {0:.3f} point increase ({1:.2%}).'.format(sgd_accuracy[1]-sgd_accuracy[0], (sgd_accuracy[1]/sgd_accuracy[0])-1))"
      ],
      "execution_count": 31,
      "outputs": [
        {
          "output_type": "stream",
          "text": [
            "SGDClassifier         : 0.728\n",
            "SGDClassifier with LDA: 0.808\n",
            "LDA resulted in a 0.080 point increase (10.99%).\n"
          ],
          "name": "stdout"
        }
      ]
    },
    {
      "cell_type": "code",
      "metadata": {
        "id": "DP_HdkapcQIA",
        "colab_type": "code",
        "outputId": "47f83996-2fe5-4c60-90f9-084bfc8531dc",
        "colab": {
          "base_uri": "https://localhost:8080/",
          "height": 395
        }
      },
      "source": [
        "# Final Model: TerasSequential\n",
        "epochs = 20\n",
        "batch_size = 64 # On average the best\n",
        "\n",
        "seq_history = []\n",
        "seq_accuracy = []\n",
        "for data in dataset:\n",
        "  seq = Sequential()\n",
        "  seq.add(Dense(512, activation='relu', input_shape=(data[xtrain].shape[1],)))\n",
        "  seq.add(Dense(256, activation='relu'))\n",
        "  seq.add(Dense(128, activation='relu'))\n",
        "  seq.add(Dense(64, activation='relu'))\n",
        "  seq.add(Dense(10, activation='softmax'))\n",
        "\n",
        "  seq.compile(optimizer='adam', loss='sparse_categorical_crossentropy', metrics=['accuracy'])\n",
        "  history = seq.fit(data[xtrain], data[ytrain], epochs=epochs, batch_size=batch_size, validation_data=(data[xtest], data[ytest]), verbose=0)\n",
        "  seq_history.append(history)\n",
        "  test_loss, test_acc = seq.evaluate(data[xtest], data[ytest], verbose=0)\n",
        "  seq_accuracy.append(test_acc)\n",
        "  # print(accuracy_score(data[ytest], seq.pre(data[xtest])))\n",
        "\n",
        "print('TerasSequential         : {0:.3f} (~0.74-0.77 on average)'.format(seq_accuracy[0]))\n",
        "print('TerasSequential with LDA: {0:.3f} (~0.84-0.87 on average)'.format(seq_accuracy[1]))\n",
        "print('LDA resulted in a {0:.3f} point increase ({1:.2%}) (~7-17% on average)'.format(seq_accuracy[1]-seq_accuracy[0], (seq_accuracy[1]/seq_accuracy[0])-1))\n"
      ],
      "execution_count": 52,
      "outputs": [
        {
          "output_type": "error",
          "ename": "ValueError",
          "evalue": "ignored",
          "traceback": [
            "\u001b[0;31m---------------------------------------------------------------------------\u001b[0m",
            "\u001b[0;31mValueError\u001b[0m                                Traceback (most recent call last)",
            "\u001b[0;32m<ipython-input-52-6089643c8e5f>\u001b[0m in \u001b[0;36m<module>\u001b[0;34m()\u001b[0m\n\u001b[1;32m     17\u001b[0m   \u001b[0mtest_loss\u001b[0m\u001b[0;34m,\u001b[0m \u001b[0mtest_acc\u001b[0m \u001b[0;34m=\u001b[0m \u001b[0mseq\u001b[0m\u001b[0;34m.\u001b[0m\u001b[0mevaluate\u001b[0m\u001b[0;34m(\u001b[0m\u001b[0mdata\u001b[0m\u001b[0;34m[\u001b[0m\u001b[0mxtest\u001b[0m\u001b[0;34m]\u001b[0m\u001b[0;34m,\u001b[0m \u001b[0mdata\u001b[0m\u001b[0;34m[\u001b[0m\u001b[0mytest\u001b[0m\u001b[0;34m]\u001b[0m\u001b[0;34m,\u001b[0m \u001b[0mverbose\u001b[0m\u001b[0;34m=\u001b[0m\u001b[0;36m0\u001b[0m\u001b[0;34m)\u001b[0m\u001b[0;34m\u001b[0m\u001b[0;34m\u001b[0m\u001b[0m\n\u001b[1;32m     18\u001b[0m   \u001b[0mseq_accuracy\u001b[0m\u001b[0;34m.\u001b[0m\u001b[0mappend\u001b[0m\u001b[0;34m(\u001b[0m\u001b[0mtest_acc\u001b[0m\u001b[0;34m)\u001b[0m\u001b[0;34m\u001b[0m\u001b[0;34m\u001b[0m\u001b[0m\n\u001b[0;32m---> 19\u001b[0;31m   \u001b[0mprint\u001b[0m\u001b[0;34m(\u001b[0m\u001b[0maccuracy_score\u001b[0m\u001b[0;34m(\u001b[0m\u001b[0mdata\u001b[0m\u001b[0;34m[\u001b[0m\u001b[0mytest\u001b[0m\u001b[0;34m]\u001b[0m\u001b[0;34m,\u001b[0m \u001b[0mseq\u001b[0m\u001b[0;34m.\u001b[0m\u001b[0mpredict\u001b[0m\u001b[0;34m(\u001b[0m\u001b[0mdata\u001b[0m\u001b[0;34m[\u001b[0m\u001b[0mxtest\u001b[0m\u001b[0;34m]\u001b[0m\u001b[0;34m)\u001b[0m\u001b[0;34m)\u001b[0m\u001b[0;34m)\u001b[0m\u001b[0;34m\u001b[0m\u001b[0;34m\u001b[0m\u001b[0m\n\u001b[0m\u001b[1;32m     20\u001b[0m \u001b[0;34m\u001b[0m\u001b[0m\n\u001b[1;32m     21\u001b[0m \u001b[0mprint\u001b[0m\u001b[0;34m(\u001b[0m\u001b[0;34m'TerasSequential         : {0:.3f} (~0.74-0.77 on average)'\u001b[0m\u001b[0;34m.\u001b[0m\u001b[0mformat\u001b[0m\u001b[0;34m(\u001b[0m\u001b[0mseq_accuracy\u001b[0m\u001b[0;34m[\u001b[0m\u001b[0;36m0\u001b[0m\u001b[0;34m]\u001b[0m\u001b[0;34m)\u001b[0m\u001b[0;34m)\u001b[0m\u001b[0;34m\u001b[0m\u001b[0;34m\u001b[0m\u001b[0m\n",
            "\u001b[0;32m/usr/local/lib/python3.6/dist-packages/sklearn/metrics/_classification.py\u001b[0m in \u001b[0;36maccuracy_score\u001b[0;34m(y_true, y_pred, normalize, sample_weight)\u001b[0m\n\u001b[1;32m    183\u001b[0m \u001b[0;34m\u001b[0m\u001b[0m\n\u001b[1;32m    184\u001b[0m     \u001b[0;31m# Compute accuracy for each possible representation\u001b[0m\u001b[0;34m\u001b[0m\u001b[0;34m\u001b[0m\u001b[0;34m\u001b[0m\u001b[0m\n\u001b[0;32m--> 185\u001b[0;31m     \u001b[0my_type\u001b[0m\u001b[0;34m,\u001b[0m \u001b[0my_true\u001b[0m\u001b[0;34m,\u001b[0m \u001b[0my_pred\u001b[0m \u001b[0;34m=\u001b[0m \u001b[0m_check_targets\u001b[0m\u001b[0;34m(\u001b[0m\u001b[0my_true\u001b[0m\u001b[0;34m,\u001b[0m \u001b[0my_pred\u001b[0m\u001b[0;34m)\u001b[0m\u001b[0;34m\u001b[0m\u001b[0;34m\u001b[0m\u001b[0m\n\u001b[0m\u001b[1;32m    186\u001b[0m     \u001b[0mcheck_consistent_length\u001b[0m\u001b[0;34m(\u001b[0m\u001b[0my_true\u001b[0m\u001b[0;34m,\u001b[0m \u001b[0my_pred\u001b[0m\u001b[0;34m,\u001b[0m \u001b[0msample_weight\u001b[0m\u001b[0;34m)\u001b[0m\u001b[0;34m\u001b[0m\u001b[0;34m\u001b[0m\u001b[0m\n\u001b[1;32m    187\u001b[0m     \u001b[0;32mif\u001b[0m \u001b[0my_type\u001b[0m\u001b[0;34m.\u001b[0m\u001b[0mstartswith\u001b[0m\u001b[0;34m(\u001b[0m\u001b[0;34m'multilabel'\u001b[0m\u001b[0;34m)\u001b[0m\u001b[0;34m:\u001b[0m\u001b[0;34m\u001b[0m\u001b[0;34m\u001b[0m\u001b[0m\n",
            "\u001b[0;32m/usr/local/lib/python3.6/dist-packages/sklearn/metrics/_classification.py\u001b[0m in \u001b[0;36m_check_targets\u001b[0;34m(y_true, y_pred)\u001b[0m\n\u001b[1;32m     88\u001b[0m     \u001b[0;32mif\u001b[0m \u001b[0mlen\u001b[0m\u001b[0;34m(\u001b[0m\u001b[0my_type\u001b[0m\u001b[0;34m)\u001b[0m \u001b[0;34m>\u001b[0m \u001b[0;36m1\u001b[0m\u001b[0;34m:\u001b[0m\u001b[0;34m\u001b[0m\u001b[0;34m\u001b[0m\u001b[0m\n\u001b[1;32m     89\u001b[0m         raise ValueError(\"Classification metrics can't handle a mix of {0} \"\n\u001b[0;32m---> 90\u001b[0;31m                          \"and {1} targets\".format(type_true, type_pred))\n\u001b[0m\u001b[1;32m     91\u001b[0m \u001b[0;34m\u001b[0m\u001b[0m\n\u001b[1;32m     92\u001b[0m     \u001b[0;31m# We can't have more than one value on y_type => The set is no more needed\u001b[0m\u001b[0;34m\u001b[0m\u001b[0;34m\u001b[0m\u001b[0;34m\u001b[0m\u001b[0m\n",
            "\u001b[0;31mValueError\u001b[0m: Classification metrics can't handle a mix of multiclass and continuous-multioutput targets"
          ]
        }
      ]
    },
    {
      "cell_type": "code",
      "metadata": {
        "id": "fnwhuBHHyyXO",
        "colab_type": "code",
        "colab": {
          "base_uri": "https://localhost:8080/",
          "height": 573
        },
        "outputId": "32719d19-2294-44c0-8235-a65bac300a40"
      },
      "source": [
        "\n",
        "# Plot training & validation accuracy values\n",
        "plt.plot(seq_history[0].history['accuracy'])\n",
        "plt.plot(seq_history[0].history['val_accuracy'])\n",
        "plt.title('Model accuracy')\n",
        "plt.ylabel('Accuracy')\n",
        "plt.xlabel('Epoch')\n",
        "plt.legend(['Train', 'Test'], loc='upper left')\n",
        "plt.show()\n",
        "\n",
        "# Plot training & validation loss values\n",
        "plt.plot(seq_history[0].history['loss'])\n",
        "plt.plot(seq_history[0].history['val_loss'])\n",
        "plt.title('Model loss')\n",
        "plt.ylabel('Loss')\n",
        "plt.xlabel('Epoch')\n",
        "plt.legend(['Train', 'Test'], loc='upper left')\n",
        "plt.show()"
      ],
      "execution_count": 40,
      "outputs": [
        {
          "output_type": "display_data",
          "data": {
            "image/png": "[encoded data removed]",
            "text/plain": [
              "<Figure size 432x288 with 1 Axes>"
            ]
          },
          "metadata": {
            "tags": [],
            "needs_background": "light"
          }
        },
        {
          "output_type": "display_data",
          "data": {
            "image/png": "[encoded data removed]",
            "text/plain": [
              "<Figure size 432x288 with 1 Axes>"
            ]
          },
          "metadata": {
            "tags": [],
            "needs_background": "light"
          }
        }
      ]
    },
    {
      "cell_type": "code",
      "metadata": {
        "id": "k5VJjaWWrlVb",
        "colab_type": "code",
        "colab": {}
      },
      "source": [
        "# Use this to print class based accuracies, i.e how successful a model ranks classical music\n",
        "\n",
        "def model_class_ranking_success(model, isSequential, useLDA):\n",
        "  print('Class Based Test Accuracies:')\n",
        "  accuracy_list = []\n",
        "  for index, genre in enumerate(np.unique(encoder.inverse_transform(y_enc))):\n",
        "    start_index = index * 100\n",
        "    end_index = (index+1) * 100\n",
        "    x_genre = x_lda[start_index:end_index] if useLDA else x_scaled[start_index:end_index]\n",
        "    y_genre = y_enc[start_index:end_index]\n",
        "    \n",
        "    if isSequential:\n",
        "      test_loss, test_acc = model.evaluate(x_genre, y_genre, verbose=0)\n",
        "      accuracy_list.append((genre.title(), test_acc))\n",
        "    else:\n",
        "      accuracy_list.append((genre.title(), accuracy_score(y_genre, model.predict(x_genre))))\n",
        "\n",
        "  accuracy_list = sorted(accuracy_list, key=lambda x: x[1], reverse=True)\n",
        "  for genre, test_acc in accuracy_list:\n",
        "    print('{0:9}: {1:.3f}'.format(genre.title(), test_acc))\n"
      ],
      "execution_count": 0,
      "outputs": []
    },
    {
      "cell_type": "code",
      "metadata": {
        "id": "w1RwdIAsp6go",
        "colab_type": "code",
        "colab": {
          "base_uri": "https://localhost:8080/",
          "height": 255
        },
        "outputId": "67859a3f-ee8c-424a-8f0c-da0b47588447"
      },
      "source": [
        "lr = LogisticRegression(max_iter=1500, random_state=42)\n",
        "lr.fit(dataset[0][xtrain], dataset[0][ytrain])\n",
        "model_class_ranking_success(lr, False, False)"
      ],
      "execution_count": 71,
      "outputs": [
        {
          "output_type": "stream",
          "text": [
            "Class Based Test Accuracies:\n",
            "[('Blues', 0.97), ('Classical', 1.0), ('Country', 0.92), ('Disco', 0.89), ('Hiphop', 0.95), ('Jazz', 0.96), ('Metal', 0.96), ('Pop', 0.97), ('Reggae', 0.9), ('Rock', 0.89)]\n",
            "Classical: 1.000\n",
            "Blues    : 0.970\n",
            "Pop      : 0.970\n",
            "Jazz     : 0.960\n",
            "Metal    : 0.960\n",
            "Hiphop   : 0.950\n",
            "Country  : 0.920\n",
            "Reggae   : 0.900\n",
            "Disco    : 0.890\n",
            "Rock     : 0.890\n"
          ],
          "name": "stdout"
        }
      ]
    },
    {
      "cell_type": "code",
      "metadata": {
        "id": "DKh0w6fDT5xr",
        "colab_type": "code",
        "colab": {}
      },
      "source": [
        ""
      ],
      "execution_count": 0,
      "outputs": []
    }
  ]
}