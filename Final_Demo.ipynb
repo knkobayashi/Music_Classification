{
  "nbformat": 4,
  "nbformat_minor": 0,
  "metadata": {
    "colab": {
      "name": "Final_Demo.ipynb",
      "provenance": [],
      "collapsed_sections": [],
      "include_colab_link": true
    },
    "kernelspec": {
      "name": "python3",
      "display_name": "Python 3"
    }
  },
  "cells": [
    {
      "cell_type": "markdown",
      "metadata": {
        "id": "view-in-github",
        "colab_type": "text"
      },
      "source": [
        "<a href=\"https://colab.research.google.com/github/knkobayashi/Music_Classification/blob/master/Final_Demo.ipynb\" target=\"_parent\"><img src=\"https://colab.research.google.com/assets/colab-badge.svg\" alt=\"Open In Colab\"/></a>"
      ]
    },
    {
      "cell_type": "code",
      "metadata": {
        "id": "A2XfId01lVTg",
        "colab_type": "code",
        "outputId": "23686a11-3d65-421e-e7f1-9e2e9b92616b",
        "colab": {
          "base_uri": "https://localhost:8080/",
          "height": 72
        }
      },
      "source": [
        "import numpy as np\n",
        "import pandas as pd\n",
        "import matplotlib.pyplot as plt\n",
        "\n",
        "from sklearn.preprocessing import StandardScaler, LabelEncoder\n",
        "from sklearn.linear_model import LogisticRegression\n",
        "from sklearn.model_selection import train_test_split\n",
        "from sklearn.metrics import accuracy_score, f1_score, roc_auc_score, roc_curve\n",
        "from sklearn.discriminant_analysis import LinearDiscriminantAnalysis as LDA\n",
        "from sklearn.naive_bayes import GaussianNB\n",
        "from sklearn.decomposition import PCA\n",
        "from sklearn.ensemble import RandomForestClassifier\n",
        "from sklearn.linear_model import SGDClassifier\n",
        "from sklearn.cluster import KMeans\n",
        "\n",
        "\n",
        "from scipy.stats import kurtosis\n",
        "from scipy.stats import skew\n",
        "import csv\n",
        "\n",
        "import tensorflow as tf\n",
        "from tensorflow.keras import layers\n",
        "from keras.models import Sequential\n",
        "from keras.layers import Dense\n",
        "\n",
        "!pip install pafy\n",
        "!pip install youtube_dl\n",
        "!pip install pydub\n",
        "import pafy, librosa, youtube_dl, warnings\n",
        "from sklearn.preprocessing import MinMaxScaler\n",
        "from pydub import AudioSegment"
      ],
      "execution_count": 0,
      "outputs": [
        {
          "output_type": "stream",
          "text": [
            "Requirement already satisfied: pafy in /usr/local/lib/python3.6/dist-packages (0.5.5)\n",
            "Requirement already satisfied: youtube_dl in /usr/local/lib/python3.6/dist-packages (2020.5.3)\n",
            "Requirement already satisfied: pydub in /usr/local/lib/python3.6/dist-packages (0.23.1)\n"
          ],
          "name": "stdout"
        }
      ]
    },
    {
      "cell_type": "code",
      "metadata": {
        "id": "EVUM3C4ElkmM",
        "colab_type": "code",
        "outputId": "cd8ba432-2b79-4b42-c9e5-c69b022e2295",
        "colab": {
          "base_uri": "https://localhost:8080/",
          "height": 129
        }
      },
      "source": [
        "from google.colab import drive\n",
        "drive.mount('/content/drive', force_remount=True)"
      ],
      "execution_count": 0,
      "outputs": [
        {
          "output_type": "stream",
          "text": [
            "Go to this URL in a browser: https://accounts.google.com/o/oauth2/auth?client_id=947318989803-6bn6qk8qdgf4n4g3pfee6491hc0brc4i.apps.googleusercontent.com&redirect_uri=urn%3aietf%3awg%3aoauth%3a2.0%3aoob&response_type=code&scope=email%20https%3a%2f%2fwww.googleapis.com%2fauth%2fdocs.test%20https%3a%2f%2fwww.googleapis.com%2fauth%2fdrive%20https%3a%2f%2fwww.googleapis.com%2fauth%2fdrive.photos.readonly%20https%3a%2f%2fwww.googleapis.com%2fauth%2fpeopleapi.readonly\n",
            "\n",
            "Enter your authorization code:\n",
            "··········\n",
            "Mounted at /content/drive\n"
          ],
          "name": "stdout"
        }
      ]
    },
    {
      "cell_type": "code",
      "metadata": {
        "id": "swLHw0Z8lnYi",
        "colab_type": "code",
        "colab": {}
      },
      "source": [
        "df = pd.read_csv(\"/content/drive/My Drive/EE461P_Project/Data.csv\")"
      ],
      "execution_count": 0,
      "outputs": []
    },
    {
      "cell_type": "code",
      "metadata": {
        "id": "vu3LmoyalozM",
        "colab_type": "code",
        "colab": {}
      },
      "source": [
        "# Data from Dataframe\n",
        "X = df.drop(['genre'], axis=1)\n",
        "y = df['genre']\n",
        "\n",
        "# Scaling X Data\n",
        "scale = StandardScaler()\n",
        "x_scaled = pd.DataFrame(scale.fit_transform(X), columns = X.columns)\n",
        "\n",
        "# Encoding Y Data to integer from 0-9\n",
        "encoder = LabelEncoder()\n",
        "y_enc = encoder.fit_transform(y)\n",
        "\n",
        "#Performing LDA\n",
        "lda = LDA()\n",
        "x_lda = lda.fit_transform(x_scaled, y_enc)\n",
        "\n",
        "x_train, x_test, y_train, y_test = train_test_split(x_scaled, y_enc, test_size=0.25, random_state=42)\n",
        "x_train_lda, x_test_lda, y_train_lda, y_test_lda = train_test_split(x_lda, y_enc, test_size=0.25, random_state=42)\n",
        "\n",
        "# User for iterations below\n",
        "dataset = []\n",
        "dataset.append([x_train, x_test, y_train, y_test])\n",
        "dataset.append([x_train_lda, x_test_lda, y_train_lda, y_test_lda])\n",
        "xtrain, xtest, ytrain, ytest = range(0,4)\n",
        "\n",
        "# x_train.shape\n",
        "\n",
        "#PCA\n",
        "from sklearn.decomposition import PCA\n",
        "\n",
        "pca = PCA(n_components=3,whiten=False);\n",
        "pca.fit(x_scaled)\n",
        "xPca = pca.transform(x_scaled)"
      ],
      "execution_count": 0,
      "outputs": []
    },
    {
      "cell_type": "code",
      "metadata": {
        "id": "Wc-LlUeplgfS",
        "colab_type": "code",
        "colab": {}
      },
      "source": [
        "#@title\n",
        "def get_features(y, sr):\n",
        "    # Features to concatenate in the final dictionary\n",
        "    features = {'centroid': None, 'roloff': None, 'flux': None, 'rmse': None,\n",
        "                'zcr': None, 'contrast': None, 'bandwidth': None, 'flatness': None, 'chroma_stft': None}\n",
        "    \n",
        "    # Count silence\n",
        "    if 0 < len(y):\n",
        "        y_sound, _ = librosa.effects.trim(y)\n",
        "    features['sample_silence'] = len(y) - len(y_sound)\n",
        "\n",
        "    # Using librosa to calculate the features\n",
        "    features['chroma_stft']=librosa.feature.chroma_stft(y=y, sr=sr).ravel()\n",
        "    features['centroid'] = librosa.feature.spectral_centroid(y, sr=sr).ravel()\n",
        "    features['roloff'] = librosa.feature.spectral_rolloff(y, sr=sr,).ravel()\n",
        "    features['zcr'] = librosa.feature.zero_crossing_rate(y).ravel()\n",
        "    features['rmse'] = librosa.feature.rms(y).ravel()\n",
        "    features['flux'] = librosa.onset.onset_strength(y=y, sr=sr).ravel()\n",
        "    features['contrast'] = librosa.feature.spectral_contrast(y, sr=sr).ravel()\n",
        "    features['bandwidth'] = librosa.feature.spectral_bandwidth(y, sr=sr).ravel()\n",
        "    features['flatness'] = librosa.feature.spectral_flatness(y).ravel()\n",
        "    \n",
        "    # MFCC treatment\n",
        "    mfcc = librosa.feature.mfcc(y, sr=sr, n_mfcc=13)\n",
        "    for idx, v_mfcc in enumerate(mfcc):\n",
        "        features['mfcc_{}'.format(idx)] = v_mfcc.ravel()\n",
        "        \n",
        "    # Get statistics from the vectors\n",
        "    def get_moments(descriptors):\n",
        "        result = {}\n",
        "        for k, v in descriptors.items():\n",
        "            result['{}_max'.format(k)] = np.max(v)\n",
        "            result['{}_min'.format(k)] = np.min(v)\n",
        "            result['{}_mean'.format(k)] = np.mean(v)\n",
        "            result['{}_std'.format(k)] = np.std(v)\n",
        "            result['{}_kurtosis'.format(k)] = kurtosis(v)\n",
        "            result['{}_skew'.format(k)] = skew(v)\n",
        "        return result\n",
        "    \n",
        "    dict_agg_features = get_moments(features)\n",
        "    dict_agg_features['tempo'] = librosa.beat.tempo(y, sr=sr)[0]\n",
        "    \n",
        "    return dict_agg_features"
      ],
      "execution_count": 0,
      "outputs": []
    },
    {
      "cell_type": "code",
      "metadata": {
        "id": "1xZBqBSOi06m",
        "colab_type": "code",
        "colab": {}
      },
      "source": [
        "def success(label,columns,sums):\n",
        "    mostNum = np.amax(label)\n",
        "    mostLb = label.index(mostNum)\n",
        "    mostLabel = columns[mostLb]\n",
        "    print(\"Most found label: \" + mostLabel)\n",
        "    print(\"Number of \" + mostLabel + \" found :\" + str(mostNum))\n",
        "    total = np.sum(label)\n",
        "    print(\"Population of cluster: \" + str(total))\n",
        "    mostSum = sums[mostLb]\n",
        "    mostAbility = round(100*mostNum/mostSum,1)\n",
        "    print(\"Percentage of \" + mostLabel + \" found: \" + str(mostAbility) + \"%\")  \n",
        "    ability = round(100*mostNum/total, 1)\n",
        "    print(\"Ability to distinguish \" + mostLabel + \" amoung other found genres in cluster: \" + str(ability)+\"%\")\n",
        "\n",
        "def compareLabels(clusterLabels,trueLabels,labelNum,columns,plot=0):\n",
        "    score = 0\n",
        "    sums = [0]*10\n",
        "    for k in trueLabels:\n",
        "        sums[k] +=1\n",
        "    for i in range(labelNum):\n",
        "        if i ==0:\n",
        "            clusters = [clusterLabels.index[clusterLabels[0]==i].to_numpy()]\n",
        "            label = [0]*10\n",
        "            for x in clusters[i]:\n",
        "                label[trueLabels[x]] += 1\n",
        "            labels = [label]\n",
        "        else:\n",
        "            clusters.append(clusterLabels.index[clusterLabels[0]==i].to_numpy())\n",
        "            label = [0]*10\n",
        "            for x in clusters[i]:\n",
        "                label[trueLabels[x]] += 1\n",
        "            labels.append(label)\n",
        "        if plot==1:\n",
        "            plt.figure(figsize=(8, 4))\n",
        "            plt.bar(columns,label)\n",
        "            title = \"Match for cluster label \" + str(i)\n",
        "            plt.title(title)\n",
        "            plt.show()\n",
        "            success(labels[i],columns,sums)\n",
        "    return clusters,labels"
      ],
      "execution_count": 0,
      "outputs": []
    },
    {
      "cell_type": "code",
      "metadata": {
        "id": "JQzpluIii1bg",
        "colab_type": "code",
        "colab": {}
      },
      "source": [
        "# Creating/Training Model\n",
        "gnb = GaussianNB()\n",
        "gnb.fit(dataset[1][xtrain], dataset[1][ytrain])\n",
        "\n",
        "kmeans = KMeans(n_clusters=10,random_state=42)\n",
        "kmeans.fit(xPca)\n",
        "columns = y.unique()\n",
        "clusterLabels = pd.DataFrame(kmeans.labels_)\n",
        "clusters,labels = compareLabels(clusterLabels,y_enc,kmeans.n_clusters,columns)"
      ],
      "execution_count": 0,
      "outputs": []
    },
    {
      "cell_type": "code",
      "metadata": {
        "id": "MfjiiGbXlbRB",
        "colab_type": "code",
        "colab": {}
      },
      "source": [
        "# All-Star - https://www.youtube.com/watch?v=5ZYgIrqELFw\n",
        "# Livin on a Prayer - https://www.youtube.com/watch?v=fDjhZva-6LE\n",
        "# Through the Fire and Flames - https://www.youtube.com/watch?v=Wbrrma9Cutk\n",
        "# Lose Yourself - https://www.youtube.com/watch?v=tR1ECf4sEpw\n",
        "# September - https://www.youtube.com/watch?v=wBNewLDy3pQ\n",
        "\n",
        "def download_songs (video_url, song_offset):\n",
        "  with warnings.catch_warnings():\n",
        "    warnings.filterwarnings(\"ignore\",category=DeprecationWarning)\n",
        "\n",
        "    # Getting the video\n",
        "    video = pafy.new(url=video_url, basic=False, gdata=False)\n",
        "    length = video.length\n",
        "    stream = video.getbestaudio()\n",
        "    filename = stream.download()\n",
        "    print(\"Downloaded: '\" + video.title + '.' + stream.extension + \"'\")\n",
        "\n",
        "    # Convert to MP3\n",
        "    name = 'song.mp3'\n",
        "    wav_audio = AudioSegment.from_file((video.title + '.' + stream.extension), format=stream.extension)\n",
        "    audio = wav_audio.export(name, format=\"mp3\")\n",
        "    print(\"Converted into: '\" + name + \"'\")\n",
        "\n",
        "    # Extract Features\n",
        "    y, sr = librosa.load(name, offset=song_offset, duration = 60)\n",
        "    features = get_features(y, sr)\n",
        "    features['genre'] = 'hiphop'\n",
        "    features['title'] = video.title\n",
        "    features = pd.DataFrame(features, index=[0])\n",
        "    print(\"Successfully Extracted Features\")\n",
        "    return features\n",
        "\n",
        "def supervised_from_youtube ( song ):\n",
        "    # Predicting Model\n",
        "    genres = ['blues', 'classical', 'country', 'disco', 'hiphop', 'jazz', 'metal', 'pop', 'reggae', 'rock']\n",
        "    song_x = scale.transform(song.drop(['genre'], axis=1).drop(['title'], axis = 1))\n",
        "    song_x = lda.transform(song_x)\n",
        "    song_y = song['genre']\n",
        "\n",
        "    prediction = gnb.predict(song_x)\n",
        "    predict_proba = gnb.predict_log_proba(song_x)\n",
        "\n",
        "    proba_genre = dict(zip(genres, predict_proba[0]))\n",
        "    proba_genre_sorted = sorted(proba_genre.items(), key=lambda x: x[1], reverse=True)\n",
        "\n",
        "    # Printing Results\n",
        "    print(\"================================\")\n",
        "    print(\"Supervised Predicted '\" + song.title[0] + \"' as \" + str(encoder.inverse_transform(prediction)[0]).title())\n",
        "    print(\"Guess order is: \", end=\"\")\n",
        "    for x in proba_genre_sorted: print(x[0].title(), end=\", \")\n",
        "    print(\"\")\n",
        "\n",
        "def unsupervised_from_youtube( song ):\n",
        "    # Predicting Model\n",
        "    genres = ['blues', 'classical', 'country', 'disco', 'hiphop', 'jazz', 'metal', 'pop', 'reggae', 'rock']\n",
        "    song_x = scale.transform(song.drop(['genre'], axis=1).drop(['title'], axis = 1))\n",
        "    song_x = pca.transform(song_x)\n",
        "\n",
        "    prediction = kmeans.predict(song_x)\n",
        "    k = np.squeeze(prediction)\n",
        "\n",
        "    proba_genre = dict(zip(genres, labels[k]))\n",
        "    proba_genre_sorted = sorted(proba_genre.items(), key=lambda x: x[1], reverse=True)\n",
        "\n",
        "    # Printing Results\n",
        "    print(\"================================\")\n",
        "    #print(\"Unsupervised Predicted '\" + song.title[0] + \"' as \" + str(proba_genre_sorted[0][0]).title())\n",
        "    #print(\"Guess order is: \", end=\"\")\n",
        "    #for x in proba_genre_sorted: print(x[0].title(), end=\", \")\n",
        "    #print(\"\")\n",
        "    print(\"Kmeans Group: \" + str(kmeans.predict(song_x)[0]))\n",
        "    print(\"\")"
      ],
      "execution_count": 0,
      "outputs": []
    },
    {
      "cell_type": "code",
      "metadata": {
        "id": "jca_Nr5_HuZW",
        "colab_type": "code",
        "colab": {}
      },
      "source": [
        "#LIVE DEMO BELOW HERE\n",
        "def full_demo (video_url, song_offset):\n",
        "  song = download_songs(video_url, song_offset)\n",
        "  supervised_from_youtube(song)\n",
        "  unsupervised_from_youtube(song)\n"
      ],
      "execution_count": 0,
      "outputs": []
    },
    {
      "cell_type": "code",
      "metadata": {
        "id": "9nnq5-2AMMpA",
        "colab_type": "code",
        "outputId": "1c4f8e8e-c659-481d-8ac1-097c00bcd6b2",
        "colab": {
          "base_uri": "https://localhost:8080/",
          "height": 201
        }
      },
      "source": [
        "#Change this URL to set a new song, shift offset to get better results\n",
        "url = \"https://www.youtube.com/watch?v=4BvkSoNALxQ\"\n",
        "offset = 0\n",
        "full_demo(url,offset)"
      ],
      "execution_count": 0,
      "outputs": [
        {
          "output_type": "stream",
          "text": [
            "\n",
            "Downloaded: 'All Star - Smash Mouth (SKA PUNK Cover).webm'\n",
            "Converted into: 'song.mp3'\n",
            "Successfully Extracted Features\n",
            "================================\n",
            "Supervised Predicted 'All Star - Smash Mouth (SKA PUNK Cover)' as Rock\n",
            "Guess order is: Rock, Blues, Metal, Country, Hiphop, Disco, Reggae, Pop, Jazz, Classical, \n",
            "================================\n",
            "Kmeans Group: 9\n",
            "\n"
          ],
          "name": "stdout"
        }
      ]
    },
    {
      "cell_type": "code",
      "metadata": {
        "id": "7NrHQ6FXVYu3",
        "colab_type": "code",
        "colab": {}
      },
      "source": [
        ""
      ],
      "execution_count": 0,
      "outputs": []
    }
  ]
}